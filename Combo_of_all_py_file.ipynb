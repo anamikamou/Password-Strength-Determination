{
 "cells": [
  {
   "cell_type": "code",
   "execution_count": 6,
   "metadata": {},
   "outputs": [
    {
     "name": "stdout",
     "output_type": "stream",
     "text": [
      "Test Accuracy:  82.6086956521739\n"
     ]
    }
   ],
   "source": [
    "# %load Decision_Tree.py\n",
    "import pandas as pd\n",
    "from sklearn.metrics import accuracy_score\n",
    "from sklearn.model_selection import train_test_split\n",
    "from sklearn.tree import DecisionTreeClassifier\n",
    "\n",
    "xl=pd.read_excel('New_Data_Set1.xlsx')\n",
    "x=xl.iloc[:,0:4].values\n",
    "y=xl.iloc[:,5].values\n",
    "\n",
    "X_train,X_test,Y_train,Y_test=train_test_split(x,y,test_size=.30,random_state=17)\n",
    "logreg = DecisionTreeClassifier()\n",
    "logreg.fit(X_train,Y_train)\n",
    "y_pred=logreg.predict(X_test)\n",
    "accuracy=accuracy_score(Y_test,y_pred)\n",
    "print(\"Test Accuracy: \",accuracy*100)\n",
    "\n"
   ]
  },
  {
   "cell_type": "code",
   "execution_count": 8,
   "metadata": {},
   "outputs": [
    {
     "name": "stdout",
     "output_type": "stream",
     "text": [
      "Test Accuracy:  64.51612903225806\n"
     ]
    },
    {
     "name": "stderr",
     "output_type": "stream",
     "text": [
      "I:\\Program\\Anaconda\\lib\\site-packages\\sklearn\\linear_model\\logistic.py:432: FutureWarning: Default solver will be changed to 'lbfgs' in 0.22. Specify a solver to silence this warning.\n",
      "  FutureWarning)\n",
      "I:\\Program\\Anaconda\\lib\\site-packages\\sklearn\\linear_model\\logistic.py:469: FutureWarning: Default multi_class will be changed to 'auto' in 0.22. Specify the multi_class option to silence this warning.\n",
      "  \"this warning.\", FutureWarning)\n"
     ]
    }
   ],
   "source": [
    "# %load Logistic.py\n",
    "import sklearn\n",
    "import pandas as pd\n",
    "import numpy as np\n",
    "from sklearn.model_selection import train_test_split\n",
    "from sklearn.metrics import accuracy_score\n",
    "from sklearn import linear_model\n",
    "\n",
    "xl=pd.read_excel('New_Data_Set1.xlsx')\n",
    "x=xl.iloc[:,0:4].values\n",
    "y=xl.iloc[:,5].values\n",
    "\n",
    "X_train,X_test,Y_train,Y_test=train_test_split(x,y,test_size=.20,random_state=17)\n",
    "logreg = linear_model.LogisticRegression()\n",
    "logreg.fit(X_train,Y_train)\n",
    "y_pred=logreg.predict(X_test)\n",
    "accuracy=accuracy_score(Y_test,y_pred)\n",
    "print(\"Test Accuracy: \",accuracy*100)"
   ]
  },
  {
   "cell_type": "code",
   "execution_count": 10,
   "metadata": {},
   "outputs": [
    {
     "name": "stdout",
     "output_type": "stream",
     "text": [
      "Test Accuracy:  80.43478260869566\n"
     ]
    }
   ],
   "source": [
    "# %load Naive Bias.py\n",
    "import pandas as pd\n",
    "from sklearn.metrics import accuracy_score\n",
    "from sklearn.model_selection import train_test_split\n",
    "from sklearn.naive_bayes import GaussianNB\n",
    "\n",
    "xl=pd.read_excel('New_Data_Set1.xlsx')\n",
    "x=xl.iloc[:,0:4].values\n",
    "y=xl.iloc[:,5].values\n",
    "\n",
    "X_train,X_test,Y_train,Y_test=train_test_split(x,y,test_size=.30,random_state=17)\n",
    "logreg = GaussianNB()\n",
    "logreg.fit(X_train,Y_train)\n",
    "y_pred=logreg.predict(X_test)\n",
    "accuracy=accuracy_score(Y_test,y_pred)\n",
    "print(\"Test Accuracy: \",accuracy*100)\n"
   ]
  },
  {
   "cell_type": "code",
   "execution_count": 12,
   "metadata": {},
   "outputs": [
    {
     "name": "stdout",
     "output_type": "stream",
     "text": [
      "Test Accuracy:  76.08695652173914\n"
     ]
    }
   ],
   "source": [
    "# %load SVM.py\n",
    "import sklearn\n",
    "import pandas as pd\n",
    "import numpy as np\n",
    "from sklearn.svm import SVC\n",
    "from sklearn.model_selection import train_test_split\n",
    "from sklearn.metrics import accuracy_score\n",
    "from sklearn import linear_model\n",
    "\n",
    "xl=pd.read_excel('New_Data_Set1.xlsx')\n",
    "x=xl.iloc[:,0:4].values\n",
    "y=xl.iloc[:,5].values\n",
    "\n",
    "X_train,X_test,Y_train,Y_test=train_test_split(x,y,test_size=.30,random_state=10)\n",
    "svm = SVC(gamma='auto')\n",
    "svm.fit(X_train,Y_train)\n",
    "y_pred=svm.predict(X_test)\n",
    "accuracy=accuracy_score(Y_test,y_pred)\n",
    "print(\"Test Accuracy: \",accuracy*100)"
   ]
  },
  {
   "cell_type": "code",
   "execution_count": null,
   "metadata": {},
   "outputs": [],
   "source": []
  }
 ],
 "metadata": {
  "kernelspec": {
   "display_name": "Python 3",
   "language": "python",
   "name": "python3"
  },
  "language_info": {
   "codemirror_mode": {
    "name": "ipython",
    "version": 3
   },
   "file_extension": ".py",
   "mimetype": "text/x-python",
   "name": "python",
   "nbconvert_exporter": "python",
   "pygments_lexer": "ipython3",
   "version": "3.7.3"
  }
 },
 "nbformat": 4,
 "nbformat_minor": 2
}
